{
 "cells": [
  {
   "cell_type": "code",
   "execution_count": 1,
   "metadata": {},
   "outputs": [],
   "source": [
    "class TodoList:\n",
    "    def __init__(self):\n",
    "        self.tasks = []\n",
    "\n",
    "    def add_task(self, task):\n",
    "        self.tasks.append(task)\n",
    "        print(f\"Task '{task}' added to the to-do list.\")\n",
    "\n",
    "    def remove_task(self, task):\n",
    "        if task in self.tasks:\n",
    "            self.tasks.remove(task)\n",
    "            print(f\"Task '{task}' removed from the to-do list.\")\n",
    "        else:\n",
    "            print(f\"Task '{task}' not found in the to-do list.\")\n",
    "\n",
    "    def display_tasks(self):\n",
    "        if not self.tasks:\n",
    "            print(\"No tasks in the to-do list.\")\n",
    "        else:\n",
    "            print(\"To-do list:\")\n",
    "            for idx, task in enumerate(self.tasks, start=1):\n",
    "                print(f\"{idx}. {task}\")\n"
   ]
  },
  {
   "cell_type": "code",
   "execution_count": 2,
   "metadata": {},
   "outputs": [
    {
     "name": "stdout",
     "output_type": "stream",
     "text": [
      "Task 'Finish report' added to the to-do list.\n",
      "Task 'Buy groceries' added to the to-do list.\n",
      "To-do list:\n",
      "1. Finish report\n",
      "2. Buy groceries\n",
      "Task 'Finish report' removed from the to-do list.\n",
      "To-do list:\n",
      "1. Buy groceries\n",
      "Task 'Exercise' not found in the to-do list.\n"
     ]
    }
   ],
   "source": [
    "if __name__ == \"__main__\":\n",
    "    todo_list = TodoList()\n",
    "\n",
    "    todo_list.add_task(\"Finish report\")\n",
    "    todo_list.add_task(\"Buy groceries\")\n",
    "    todo_list.display_tasks()\n",
    "\n",
    "    todo_list.remove_task(\"Finish report\")\n",
    "    todo_list.display_tasks()\n",
    "\n",
    "    todo_list.remove_task(\"Exercise\")  # Trying to remove a task that doesn't exist\n"
   ]
  }
 ],
 "metadata": {
  "kernelspec": {
   "display_name": "Python 3",
   "language": "python",
   "name": "python3"
  },
  "language_info": {
   "codemirror_mode": {
    "name": "ipython",
    "version": 3
   },
   "file_extension": ".py",
   "mimetype": "text/x-python",
   "name": "python",
   "nbconvert_exporter": "python",
   "pygments_lexer": "ipython3",
   "version": "3.11.7"
  }
 },
 "nbformat": 4,
 "nbformat_minor": 2
}
